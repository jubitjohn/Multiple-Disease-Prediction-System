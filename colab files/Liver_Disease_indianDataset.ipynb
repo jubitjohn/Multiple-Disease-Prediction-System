{
 "cells": [
  {
   "cell_type": "code",
   "execution_count": 111,
   "id": "4ad36776",
   "metadata": {},
   "outputs": [],
   "source": [
    "import numpy as np\n",
    "import pandas as pd\n",
    "from sklearn.model_selection import train_test_split\n",
    "from sklearn.linear_model import LogisticRegression \n",
    "from sklearn.metrics import accuracy_score "
   ]
  },
  {
   "cell_type": "code",
   "execution_count": 112,
   "id": "3091a405",
   "metadata": {},
   "outputs": [],
   "source": [
    "# loadid the Liver disease dataset to a Panda dataframe\n",
    "\n",
    "liver_data=pd.read_csv('../dataset/indian_liver_patient.csv')\n"
   ]
  },
  {
   "cell_type": "code",
   "execution_count": 113,
   "id": "357bc676",
   "metadata": {},
   "outputs": [
    {
     "data": {
      "text/html": [
       "<div>\n",
       "<style scoped>\n",
       "    .dataframe tbody tr th:only-of-type {\n",
       "        vertical-align: middle;\n",
       "    }\n",
       "\n",
       "    .dataframe tbody tr th {\n",
       "        vertical-align: top;\n",
       "    }\n",
       "\n",
       "    .dataframe thead th {\n",
       "        text-align: right;\n",
       "    }\n",
       "</style>\n",
       "<table border=\"1\" class=\"dataframe\">\n",
       "  <thead>\n",
       "    <tr style=\"text-align: right;\">\n",
       "      <th></th>\n",
       "      <th>Age</th>\n",
       "      <th>Gender</th>\n",
       "      <th>Total_Bilirubin</th>\n",
       "      <th>Direct_Bilirubin</th>\n",
       "      <th>Alkaline_Phosphotase</th>\n",
       "      <th>Alamine_Aminotransferase</th>\n",
       "      <th>Aspartate_Aminotransferase</th>\n",
       "      <th>Total_Protiens</th>\n",
       "      <th>Albumin</th>\n",
       "      <th>Albumin_and_Globulin_Ratio</th>\n",
       "      <th>Dataset</th>\n",
       "    </tr>\n",
       "  </thead>\n",
       "  <tbody>\n",
       "    <tr>\n",
       "      <th>0</th>\n",
       "      <td>65</td>\n",
       "      <td>Female</td>\n",
       "      <td>0.7</td>\n",
       "      <td>0.1</td>\n",
       "      <td>187</td>\n",
       "      <td>16</td>\n",
       "      <td>18</td>\n",
       "      <td>6.8</td>\n",
       "      <td>3.3</td>\n",
       "      <td>0.90</td>\n",
       "      <td>1</td>\n",
       "    </tr>\n",
       "    <tr>\n",
       "      <th>1</th>\n",
       "      <td>62</td>\n",
       "      <td>Male</td>\n",
       "      <td>10.9</td>\n",
       "      <td>5.5</td>\n",
       "      <td>699</td>\n",
       "      <td>64</td>\n",
       "      <td>100</td>\n",
       "      <td>7.5</td>\n",
       "      <td>3.2</td>\n",
       "      <td>0.74</td>\n",
       "      <td>1</td>\n",
       "    </tr>\n",
       "    <tr>\n",
       "      <th>2</th>\n",
       "      <td>62</td>\n",
       "      <td>Male</td>\n",
       "      <td>7.3</td>\n",
       "      <td>4.1</td>\n",
       "      <td>490</td>\n",
       "      <td>60</td>\n",
       "      <td>68</td>\n",
       "      <td>7.0</td>\n",
       "      <td>3.3</td>\n",
       "      <td>0.89</td>\n",
       "      <td>1</td>\n",
       "    </tr>\n",
       "    <tr>\n",
       "      <th>3</th>\n",
       "      <td>58</td>\n",
       "      <td>Male</td>\n",
       "      <td>1.0</td>\n",
       "      <td>0.4</td>\n",
       "      <td>182</td>\n",
       "      <td>14</td>\n",
       "      <td>20</td>\n",
       "      <td>6.8</td>\n",
       "      <td>3.4</td>\n",
       "      <td>1.00</td>\n",
       "      <td>1</td>\n",
       "    </tr>\n",
       "    <tr>\n",
       "      <th>4</th>\n",
       "      <td>72</td>\n",
       "      <td>Male</td>\n",
       "      <td>3.9</td>\n",
       "      <td>2.0</td>\n",
       "      <td>195</td>\n",
       "      <td>27</td>\n",
       "      <td>59</td>\n",
       "      <td>7.3</td>\n",
       "      <td>2.4</td>\n",
       "      <td>0.40</td>\n",
       "      <td>1</td>\n",
       "    </tr>\n",
       "  </tbody>\n",
       "</table>\n",
       "</div>"
      ],
      "text/plain": [
       "   Age  Gender  Total_Bilirubin  Direct_Bilirubin  Alkaline_Phosphotase  \\\n",
       "0   65  Female              0.7               0.1                   187   \n",
       "1   62    Male             10.9               5.5                   699   \n",
       "2   62    Male              7.3               4.1                   490   \n",
       "3   58    Male              1.0               0.4                   182   \n",
       "4   72    Male              3.9               2.0                   195   \n",
       "\n",
       "   Alamine_Aminotransferase  Aspartate_Aminotransferase  Total_Protiens  \\\n",
       "0                        16                          18             6.8   \n",
       "1                        64                         100             7.5   \n",
       "2                        60                          68             7.0   \n",
       "3                        14                          20             6.8   \n",
       "4                        27                          59             7.3   \n",
       "\n",
       "   Albumin  Albumin_and_Globulin_Ratio  Dataset  \n",
       "0      3.3                        0.90        1  \n",
       "1      3.2                        0.74        1  \n",
       "2      3.3                        0.89        1  \n",
       "3      3.4                        1.00        1  \n",
       "4      2.4                        0.40        1  "
      ]
     },
     "execution_count": 113,
     "metadata": {},
     "output_type": "execute_result"
    }
   ],
   "source": [
    "liver_data.head(5)"
   ]
  },
  {
   "cell_type": "code",
   "execution_count": 114,
   "id": "61cf1dc9",
   "metadata": {},
   "outputs": [
    {
     "data": {
      "text/html": [
       "<div>\n",
       "<style scoped>\n",
       "    .dataframe tbody tr th:only-of-type {\n",
       "        vertical-align: middle;\n",
       "    }\n",
       "\n",
       "    .dataframe tbody tr th {\n",
       "        vertical-align: top;\n",
       "    }\n",
       "\n",
       "    .dataframe thead th {\n",
       "        text-align: right;\n",
       "    }\n",
       "</style>\n",
       "<table border=\"1\" class=\"dataframe\">\n",
       "  <thead>\n",
       "    <tr style=\"text-align: right;\">\n",
       "      <th></th>\n",
       "      <th>Age</th>\n",
       "      <th>Gender</th>\n",
       "      <th>Total_Bilirubin</th>\n",
       "      <th>Direct_Bilirubin</th>\n",
       "      <th>Alkaline_Phosphotase</th>\n",
       "      <th>Alamine_Aminotransferase</th>\n",
       "      <th>Aspartate_Aminotransferase</th>\n",
       "      <th>Total_Protiens</th>\n",
       "      <th>Albumin</th>\n",
       "      <th>Albumin_and_Globulin_Ratio</th>\n",
       "      <th>Dataset</th>\n",
       "    </tr>\n",
       "  </thead>\n",
       "  <tbody>\n",
       "    <tr>\n",
       "      <th>578</th>\n",
       "      <td>60</td>\n",
       "      <td>Male</td>\n",
       "      <td>0.5</td>\n",
       "      <td>0.1</td>\n",
       "      <td>500</td>\n",
       "      <td>20</td>\n",
       "      <td>34</td>\n",
       "      <td>5.9</td>\n",
       "      <td>1.6</td>\n",
       "      <td>0.37</td>\n",
       "      <td>2</td>\n",
       "    </tr>\n",
       "    <tr>\n",
       "      <th>579</th>\n",
       "      <td>40</td>\n",
       "      <td>Male</td>\n",
       "      <td>0.6</td>\n",
       "      <td>0.1</td>\n",
       "      <td>98</td>\n",
       "      <td>35</td>\n",
       "      <td>31</td>\n",
       "      <td>6.0</td>\n",
       "      <td>3.2</td>\n",
       "      <td>1.10</td>\n",
       "      <td>1</td>\n",
       "    </tr>\n",
       "    <tr>\n",
       "      <th>580</th>\n",
       "      <td>52</td>\n",
       "      <td>Male</td>\n",
       "      <td>0.8</td>\n",
       "      <td>0.2</td>\n",
       "      <td>245</td>\n",
       "      <td>48</td>\n",
       "      <td>49</td>\n",
       "      <td>6.4</td>\n",
       "      <td>3.2</td>\n",
       "      <td>1.00</td>\n",
       "      <td>1</td>\n",
       "    </tr>\n",
       "    <tr>\n",
       "      <th>581</th>\n",
       "      <td>31</td>\n",
       "      <td>Male</td>\n",
       "      <td>1.3</td>\n",
       "      <td>0.5</td>\n",
       "      <td>184</td>\n",
       "      <td>29</td>\n",
       "      <td>32</td>\n",
       "      <td>6.8</td>\n",
       "      <td>3.4</td>\n",
       "      <td>1.00</td>\n",
       "      <td>1</td>\n",
       "    </tr>\n",
       "    <tr>\n",
       "      <th>582</th>\n",
       "      <td>38</td>\n",
       "      <td>Male</td>\n",
       "      <td>1.0</td>\n",
       "      <td>0.3</td>\n",
       "      <td>216</td>\n",
       "      <td>21</td>\n",
       "      <td>24</td>\n",
       "      <td>7.3</td>\n",
       "      <td>4.4</td>\n",
       "      <td>1.50</td>\n",
       "      <td>2</td>\n",
       "    </tr>\n",
       "  </tbody>\n",
       "</table>\n",
       "</div>"
      ],
      "text/plain": [
       "     Age Gender  Total_Bilirubin  Direct_Bilirubin  Alkaline_Phosphotase  \\\n",
       "578   60   Male              0.5               0.1                   500   \n",
       "579   40   Male              0.6               0.1                    98   \n",
       "580   52   Male              0.8               0.2                   245   \n",
       "581   31   Male              1.3               0.5                   184   \n",
       "582   38   Male              1.0               0.3                   216   \n",
       "\n",
       "     Alamine_Aminotransferase  Aspartate_Aminotransferase  Total_Protiens  \\\n",
       "578                        20                          34             5.9   \n",
       "579                        35                          31             6.0   \n",
       "580                        48                          49             6.4   \n",
       "581                        29                          32             6.8   \n",
       "582                        21                          24             7.3   \n",
       "\n",
       "     Albumin  Albumin_and_Globulin_Ratio  Dataset  \n",
       "578      1.6                        0.37        2  \n",
       "579      3.2                        1.10        1  \n",
       "580      3.2                        1.00        1  \n",
       "581      3.4                        1.00        1  \n",
       "582      4.4                        1.50        2  "
      ]
     },
     "execution_count": 114,
     "metadata": {},
     "output_type": "execute_result"
    }
   ],
   "source": [
    "liver_data.tail(5)\n"
   ]
  },
  {
   "cell_type": "code",
   "execution_count": 115,
   "id": "ede2d38b",
   "metadata": {},
   "outputs": [
    {
     "data": {
      "text/plain": [
       "(583, 11)"
      ]
     },
     "execution_count": 115,
     "metadata": {},
     "output_type": "execute_result"
    }
   ],
   "source": [
    "liver_data.shape\n"
   ]
  },
  {
   "cell_type": "code",
   "execution_count": 116,
   "id": "b2450749",
   "metadata": {},
   "outputs": [],
   "source": [
    "liver_data = liver_data.replace(['Male'], '1')\n",
    "liver_data = liver_data.replace(['Female'], '0')"
   ]
  },
  {
   "cell_type": "code",
   "execution_count": 117,
   "id": "20f124ba",
   "metadata": {},
   "outputs": [
    {
     "name": "stdout",
     "output_type": "stream",
     "text": [
      "<class 'pandas.core.frame.DataFrame'>\n",
      "RangeIndex: 583 entries, 0 to 582\n",
      "Data columns (total 11 columns):\n",
      " #   Column                      Non-Null Count  Dtype  \n",
      "---  ------                      --------------  -----  \n",
      " 0   Age                         583 non-null    int64  \n",
      " 1   Gender                      583 non-null    object \n",
      " 2   Total_Bilirubin             583 non-null    float64\n",
      " 3   Direct_Bilirubin            583 non-null    float64\n",
      " 4   Alkaline_Phosphotase        583 non-null    int64  \n",
      " 5   Alamine_Aminotransferase    583 non-null    int64  \n",
      " 6   Aspartate_Aminotransferase  583 non-null    int64  \n",
      " 7   Total_Protiens              583 non-null    float64\n",
      " 8   Albumin                     583 non-null    float64\n",
      " 9   Albumin_and_Globulin_Ratio  579 non-null    float64\n",
      " 10  Dataset                     583 non-null    int64  \n",
      "dtypes: float64(5), int64(5), object(1)\n",
      "memory usage: 50.2+ KB\n"
     ]
    }
   ],
   "source": [
    "liver_data.info()"
   ]
  },
  {
   "cell_type": "code",
   "execution_count": 118,
   "id": "29d5513e",
   "metadata": {},
   "outputs": [
    {
     "data": {
      "text/plain": [
       "Age                           0\n",
       "Gender                        0\n",
       "Total_Bilirubin               0\n",
       "Direct_Bilirubin              0\n",
       "Alkaline_Phosphotase          0\n",
       "Alamine_Aminotransferase      0\n",
       "Aspartate_Aminotransferase    0\n",
       "Total_Protiens                0\n",
       "Albumin                       0\n",
       "Albumin_and_Globulin_Ratio    4\n",
       "Dataset                       0\n",
       "dtype: int64"
      ]
     },
     "execution_count": 118,
     "metadata": {},
     "output_type": "execute_result"
    }
   ],
   "source": [
    "liver_data.isnull().sum()\n"
   ]
  },
  {
   "cell_type": "code",
   "execution_count": 119,
   "id": "65032e80",
   "metadata": {},
   "outputs": [],
   "source": [
    "liver_data.dropna(axis=0,inplace=True)"
   ]
  },
  {
   "cell_type": "code",
   "execution_count": 120,
   "id": "6a212441",
   "metadata": {},
   "outputs": [
    {
     "data": {
      "text/plain": [
       "Age                           0\n",
       "Gender                        0\n",
       "Total_Bilirubin               0\n",
       "Direct_Bilirubin              0\n",
       "Alkaline_Phosphotase          0\n",
       "Alamine_Aminotransferase      0\n",
       "Aspartate_Aminotransferase    0\n",
       "Total_Protiens                0\n",
       "Albumin                       0\n",
       "Albumin_and_Globulin_Ratio    0\n",
       "Dataset                       0\n",
       "dtype: int64"
      ]
     },
     "execution_count": 120,
     "metadata": {},
     "output_type": "execute_result"
    }
   ],
   "source": [
    "liver_data.isnull().sum()"
   ]
  },
  {
   "cell_type": "code",
   "execution_count": 121,
   "id": "39057c5d",
   "metadata": {},
   "outputs": [
    {
     "data": {
      "text/html": [
       "<div>\n",
       "<style scoped>\n",
       "    .dataframe tbody tr th:only-of-type {\n",
       "        vertical-align: middle;\n",
       "    }\n",
       "\n",
       "    .dataframe tbody tr th {\n",
       "        vertical-align: top;\n",
       "    }\n",
       "\n",
       "    .dataframe thead th {\n",
       "        text-align: right;\n",
       "    }\n",
       "</style>\n",
       "<table border=\"1\" class=\"dataframe\">\n",
       "  <thead>\n",
       "    <tr style=\"text-align: right;\">\n",
       "      <th></th>\n",
       "      <th>Age</th>\n",
       "      <th>Total_Bilirubin</th>\n",
       "      <th>Direct_Bilirubin</th>\n",
       "      <th>Alkaline_Phosphotase</th>\n",
       "      <th>Alamine_Aminotransferase</th>\n",
       "      <th>Aspartate_Aminotransferase</th>\n",
       "      <th>Total_Protiens</th>\n",
       "      <th>Albumin</th>\n",
       "      <th>Albumin_and_Globulin_Ratio</th>\n",
       "      <th>Dataset</th>\n",
       "    </tr>\n",
       "  </thead>\n",
       "  <tbody>\n",
       "    <tr>\n",
       "      <th>count</th>\n",
       "      <td>579.000000</td>\n",
       "      <td>579.000000</td>\n",
       "      <td>579.000000</td>\n",
       "      <td>579.000000</td>\n",
       "      <td>579.000000</td>\n",
       "      <td>579.000000</td>\n",
       "      <td>579.000000</td>\n",
       "      <td>579.000000</td>\n",
       "      <td>579.000000</td>\n",
       "      <td>579.000000</td>\n",
       "    </tr>\n",
       "    <tr>\n",
       "      <th>mean</th>\n",
       "      <td>44.782383</td>\n",
       "      <td>3.315371</td>\n",
       "      <td>1.494128</td>\n",
       "      <td>291.366149</td>\n",
       "      <td>81.126079</td>\n",
       "      <td>110.414508</td>\n",
       "      <td>6.481693</td>\n",
       "      <td>3.138515</td>\n",
       "      <td>0.947064</td>\n",
       "      <td>1.284974</td>\n",
       "    </tr>\n",
       "    <tr>\n",
       "      <th>std</th>\n",
       "      <td>16.221786</td>\n",
       "      <td>6.227716</td>\n",
       "      <td>2.816499</td>\n",
       "      <td>243.561863</td>\n",
       "      <td>183.182845</td>\n",
       "      <td>289.850034</td>\n",
       "      <td>1.084641</td>\n",
       "      <td>0.794435</td>\n",
       "      <td>0.319592</td>\n",
       "      <td>0.451792</td>\n",
       "    </tr>\n",
       "    <tr>\n",
       "      <th>min</th>\n",
       "      <td>4.000000</td>\n",
       "      <td>0.400000</td>\n",
       "      <td>0.100000</td>\n",
       "      <td>63.000000</td>\n",
       "      <td>10.000000</td>\n",
       "      <td>10.000000</td>\n",
       "      <td>2.700000</td>\n",
       "      <td>0.900000</td>\n",
       "      <td>0.300000</td>\n",
       "      <td>1.000000</td>\n",
       "    </tr>\n",
       "    <tr>\n",
       "      <th>25%</th>\n",
       "      <td>33.000000</td>\n",
       "      <td>0.800000</td>\n",
       "      <td>0.200000</td>\n",
       "      <td>175.500000</td>\n",
       "      <td>23.000000</td>\n",
       "      <td>25.000000</td>\n",
       "      <td>5.800000</td>\n",
       "      <td>2.600000</td>\n",
       "      <td>0.700000</td>\n",
       "      <td>1.000000</td>\n",
       "    </tr>\n",
       "    <tr>\n",
       "      <th>50%</th>\n",
       "      <td>45.000000</td>\n",
       "      <td>1.000000</td>\n",
       "      <td>0.300000</td>\n",
       "      <td>208.000000</td>\n",
       "      <td>35.000000</td>\n",
       "      <td>42.000000</td>\n",
       "      <td>6.600000</td>\n",
       "      <td>3.100000</td>\n",
       "      <td>0.930000</td>\n",
       "      <td>1.000000</td>\n",
       "    </tr>\n",
       "    <tr>\n",
       "      <th>75%</th>\n",
       "      <td>58.000000</td>\n",
       "      <td>2.600000</td>\n",
       "      <td>1.300000</td>\n",
       "      <td>298.000000</td>\n",
       "      <td>61.000000</td>\n",
       "      <td>87.000000</td>\n",
       "      <td>7.200000</td>\n",
       "      <td>3.800000</td>\n",
       "      <td>1.100000</td>\n",
       "      <td>2.000000</td>\n",
       "    </tr>\n",
       "    <tr>\n",
       "      <th>max</th>\n",
       "      <td>90.000000</td>\n",
       "      <td>75.000000</td>\n",
       "      <td>19.700000</td>\n",
       "      <td>2110.000000</td>\n",
       "      <td>2000.000000</td>\n",
       "      <td>4929.000000</td>\n",
       "      <td>9.600000</td>\n",
       "      <td>5.500000</td>\n",
       "      <td>2.800000</td>\n",
       "      <td>2.000000</td>\n",
       "    </tr>\n",
       "  </tbody>\n",
       "</table>\n",
       "</div>"
      ],
      "text/plain": [
       "              Age  Total_Bilirubin  Direct_Bilirubin  Alkaline_Phosphotase  \\\n",
       "count  579.000000       579.000000        579.000000            579.000000   \n",
       "mean    44.782383         3.315371          1.494128            291.366149   \n",
       "std     16.221786         6.227716          2.816499            243.561863   \n",
       "min      4.000000         0.400000          0.100000             63.000000   \n",
       "25%     33.000000         0.800000          0.200000            175.500000   \n",
       "50%     45.000000         1.000000          0.300000            208.000000   \n",
       "75%     58.000000         2.600000          1.300000            298.000000   \n",
       "max     90.000000        75.000000         19.700000           2110.000000   \n",
       "\n",
       "       Alamine_Aminotransferase  Aspartate_Aminotransferase  Total_Protiens  \\\n",
       "count                579.000000                  579.000000      579.000000   \n",
       "mean                  81.126079                  110.414508        6.481693   \n",
       "std                  183.182845                  289.850034        1.084641   \n",
       "min                   10.000000                   10.000000        2.700000   \n",
       "25%                   23.000000                   25.000000        5.800000   \n",
       "50%                   35.000000                   42.000000        6.600000   \n",
       "75%                   61.000000                   87.000000        7.200000   \n",
       "max                 2000.000000                 4929.000000        9.600000   \n",
       "\n",
       "          Albumin  Albumin_and_Globulin_Ratio     Dataset  \n",
       "count  579.000000                  579.000000  579.000000  \n",
       "mean     3.138515                    0.947064    1.284974  \n",
       "std      0.794435                    0.319592    0.451792  \n",
       "min      0.900000                    0.300000    1.000000  \n",
       "25%      2.600000                    0.700000    1.000000  \n",
       "50%      3.100000                    0.930000    1.000000  \n",
       "75%      3.800000                    1.100000    2.000000  \n",
       "max      5.500000                    2.800000    2.000000  "
      ]
     },
     "execution_count": 121,
     "metadata": {},
     "output_type": "execute_result"
    }
   ],
   "source": [
    "liver_data.describe()\n"
   ]
  },
  {
   "cell_type": "code",
   "execution_count": 122,
   "id": "83459a7f",
   "metadata": {},
   "outputs": [
    {
     "data": {
      "text/plain": [
       "1    414\n",
       "2    165\n",
       "Name: Dataset, dtype: int64"
      ]
     },
     "execution_count": 122,
     "metadata": {},
     "output_type": "execute_result"
    }
   ],
   "source": [
    "# checking the distribution of the target variable\n",
    "liver_data['Dataset'].value_counts()"
   ]
  },
  {
   "cell_type": "code",
   "execution_count": 123,
   "id": "723bd135",
   "metadata": {},
   "outputs": [],
   "source": [
    "X=liver_data.drop(columns='Dataset',axis=1)\n",
    "Y=liver_data['Dataset']"
   ]
  },
  {
   "cell_type": "code",
   "execution_count": 124,
   "id": "90061505",
   "metadata": {},
   "outputs": [
    {
     "name": "stdout",
     "output_type": "stream",
     "text": [
      "     Age Gender  Total_Bilirubin  Direct_Bilirubin  Alkaline_Phosphotase  \\\n",
      "0     65      0              0.7               0.1                   187   \n",
      "1     62      1             10.9               5.5                   699   \n",
      "2     62      1              7.3               4.1                   490   \n",
      "3     58      1              1.0               0.4                   182   \n",
      "4     72      1              3.9               2.0                   195   \n",
      "..   ...    ...              ...               ...                   ...   \n",
      "578   60      1              0.5               0.1                   500   \n",
      "579   40      1              0.6               0.1                    98   \n",
      "580   52      1              0.8               0.2                   245   \n",
      "581   31      1              1.3               0.5                   184   \n",
      "582   38      1              1.0               0.3                   216   \n",
      "\n",
      "     Alamine_Aminotransferase  Aspartate_Aminotransferase  Total_Protiens  \\\n",
      "0                          16                          18             6.8   \n",
      "1                          64                         100             7.5   \n",
      "2                          60                          68             7.0   \n",
      "3                          14                          20             6.8   \n",
      "4                          27                          59             7.3   \n",
      "..                        ...                         ...             ...   \n",
      "578                        20                          34             5.9   \n",
      "579                        35                          31             6.0   \n",
      "580                        48                          49             6.4   \n",
      "581                        29                          32             6.8   \n",
      "582                        21                          24             7.3   \n",
      "\n",
      "     Albumin  Albumin_and_Globulin_Ratio  \n",
      "0        3.3                        0.90  \n",
      "1        3.2                        0.74  \n",
      "2        3.3                        0.89  \n",
      "3        3.4                        1.00  \n",
      "4        2.4                        0.40  \n",
      "..       ...                         ...  \n",
      "578      1.6                        0.37  \n",
      "579      3.2                        1.10  \n",
      "580      3.2                        1.00  \n",
      "581      3.4                        1.00  \n",
      "582      4.4                        1.50  \n",
      "\n",
      "[579 rows x 10 columns]\n"
     ]
    }
   ],
   "source": [
    "print(X)"
   ]
  },
  {
   "cell_type": "code",
   "execution_count": 125,
   "id": "a130e1c1",
   "metadata": {},
   "outputs": [
    {
     "name": "stdout",
     "output_type": "stream",
     "text": [
      "0      1\n",
      "1      1\n",
      "2      1\n",
      "3      1\n",
      "4      1\n",
      "      ..\n",
      "578    2\n",
      "579    1\n",
      "580    1\n",
      "581    1\n",
      "582    2\n",
      "Name: Dataset, Length: 579, dtype: int64\n"
     ]
    }
   ],
   "source": [
    "print(Y)"
   ]
  },
  {
   "cell_type": "code",
   "execution_count": 126,
   "id": "671e851e",
   "metadata": {},
   "outputs": [],
   "source": [
    "#splitting the data into training data and test data.\n",
    "\n",
    "X_train,X_test,Y_train,Y_test= train_test_split(X, Y, test_size=0.2, stratify=Y,random_state=2)"
   ]
  },
  {
   "cell_type": "code",
   "execution_count": 127,
   "id": "d8110406",
   "metadata": {},
   "outputs": [
    {
     "name": "stdout",
     "output_type": "stream",
     "text": [
      "(579, 10) (463, 10) (116, 10)\n"
     ]
    }
   ],
   "source": [
    "print(X.shape,X_train.shape,X_test.shape)"
   ]
  },
  {
   "cell_type": "markdown",
   "id": "feee9008",
   "metadata": {},
   "source": [
    "#model Training- Logistic Regression Model\n"
   ]
  },
  {
   "cell_type": "code",
   "execution_count": 128,
   "id": "986dde1a",
   "metadata": {},
   "outputs": [],
   "source": [
    "model= LogisticRegression(solver='lbfgs', max_iter=1000)\n"
   ]
  },
  {
   "cell_type": "code",
   "execution_count": 129,
   "id": "40fa1d23",
   "metadata": {},
   "outputs": [
    {
     "data": {
      "text/plain": [
       "LogisticRegression(max_iter=1000)"
      ]
     },
     "execution_count": 129,
     "metadata": {},
     "output_type": "execute_result"
    }
   ],
   "source": [
    "model.fit(X_train,Y_train)"
   ]
  },
  {
   "cell_type": "markdown",
   "id": "b86663d4",
   "metadata": {},
   "source": [
    "# Model Evaluation"
   ]
  },
  {
   "cell_type": "code",
   "execution_count": 130,
   "id": "4a9e8384",
   "metadata": {},
   "outputs": [],
   "source": [
    "#accuracy on the training data\n",
    "X_train_prediction=model.predict(X_train)\n",
    "training_data_accuracy= accuracy_score(X_train_prediction,Y_train)"
   ]
  },
  {
   "cell_type": "code",
   "execution_count": 131,
   "id": "9b585713",
   "metadata": {},
   "outputs": [
    {
     "name": "stdout",
     "output_type": "stream",
     "text": [
      "Accuracy on training data : 0.7257019438444925\n"
     ]
    }
   ],
   "source": [
    "print(\"Accuracy on training data :\",training_data_accuracy)"
   ]
  },
  {
   "cell_type": "code",
   "execution_count": 132,
   "id": "38fb1e2c",
   "metadata": {},
   "outputs": [],
   "source": [
    "#accuracy on the test data\n",
    "X_test_prediction=model.predict(X_test)\n",
    "testing_data_accuracy= accuracy_score(X_test_prediction,Y_test)"
   ]
  },
  {
   "cell_type": "code",
   "execution_count": 133,
   "id": "8a4c0583",
   "metadata": {},
   "outputs": [
    {
     "name": "stdout",
     "output_type": "stream",
     "text": [
      "Accuracy on test data : 0.7672413793103449\n"
     ]
    }
   ],
   "source": [
    "print(\"Accuracy on test data :\",testing_data_accuracy)"
   ]
  },
  {
   "cell_type": "markdown",
   "id": "a5b4d028",
   "metadata": {},
   "source": [
    "# Building a predictive system\n"
   ]
  },
  {
   "cell_type": "code",
   "execution_count": 134,
   "id": "41249e27",
   "metadata": {},
   "outputs": [
    {
     "name": "stdout",
     "output_type": "stream",
     "text": [
      "[2]\n"
     ]
    },
    {
     "name": "stderr",
     "output_type": "stream",
     "text": [
      "/Users/jubitjohn/opt/anaconda3/lib/python3.9/site-packages/sklearn/base.py:450: UserWarning: X does not have valid feature names, but LogisticRegression was fitted with feature names\n",
      "  warnings.warn(\n"
     ]
    }
   ],
   "source": [
    "input_data=(17,1,0.9,0.3,202,22,19,7.4,4.1,1.2)\n",
    "input_data_as_numpy_array=np.asarray(input_data)\n",
    "input_data_reshape=input_data_as_numpy_array.reshape(1,-1)\n",
    "prediction=model.predict(input_data_reshape)\n",
    "print(prediction)"
   ]
  },
  {
   "cell_type": "code",
   "execution_count": 135,
   "id": "70b986f6",
   "metadata": {},
   "outputs": [
    {
     "name": "stdout",
     "output_type": "stream",
     "text": [
      "The person does not have liver disease\n"
     ]
    }
   ],
   "source": [
    "if(prediction[0]==1):\n",
    "    print(\"The person has liver disease\")\n",
    "else:\n",
    "    print(\"The person does not have liver disease\")"
   ]
  },
  {
   "cell_type": "markdown",
   "id": "8971d76f",
   "metadata": {},
   "source": [
    "# Saving the model\n"
   ]
  },
  {
   "cell_type": "code",
   "execution_count": 136,
   "id": "42dcbf0f",
   "metadata": {},
   "outputs": [],
   "source": [
    "import pickle"
   ]
  },
  {
   "cell_type": "code",
   "execution_count": 139,
   "id": "4be91d39",
   "metadata": {},
   "outputs": [],
   "source": [
    "filename='liver_model.sav'\n",
    "pickle.dump(model, open(filename,'wb'))"
   ]
  },
  {
   "cell_type": "code",
   "execution_count": 140,
   "id": "86b86b56",
   "metadata": {},
   "outputs": [],
   "source": [
    "#loading the save model\n",
    "loaded_model=pickle.load(open('liver_model.sav','rb'))"
   ]
  },
  {
   "cell_type": "code",
   "execution_count": null,
   "id": "cc87f2e5",
   "metadata": {},
   "outputs": [],
   "source": []
  }
 ],
 "metadata": {
  "kernelspec": {
   "display_name": "Python 3 (ipykernel)",
   "language": "python",
   "name": "python3"
  },
  "language_info": {
   "codemirror_mode": {
    "name": "ipython",
    "version": 3
   },
   "file_extension": ".py",
   "mimetype": "text/x-python",
   "name": "python",
   "nbconvert_exporter": "python",
   "pygments_lexer": "ipython3",
   "version": "3.9.13"
  }
 },
 "nbformat": 4,
 "nbformat_minor": 5
}
